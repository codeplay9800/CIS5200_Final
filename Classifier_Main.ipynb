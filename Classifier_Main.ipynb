{
  "cells": [
    {
      "cell_type": "markdown",
      "metadata": {
        "id": "view-in-github",
        "colab_type": "text"
      },
      "source": [
        "<a href=\"https://colab.research.google.com/github/codeplay9800/CIS5200_Final/blob/main/Classifier_Main.ipynb\" target=\"_parent\"><img src=\"https://colab.research.google.com/assets/colab-badge.svg\" alt=\"Open In Colab\"/></a>"
      ]
    },
    {
      "cell_type": "markdown",
      "metadata": {
        "id": "2lYL3pAFi7vD"
      },
      "source": [
        "This Jupyter notebook loads the raw amplitude and Mel spectrogram data files as numpy arrays.\n",
        "\n",
        "Download the data files [here](https://console.cloud.google.com/storage/browser/cs181_practical_data).  This notebook assumes that the data files as located in the same directory."
      ]
    },
    {
      "cell_type": "code",
      "execution_count": 3,
      "metadata": {
        "collapsed": true,
        "id": "48z1aQIGi7vF"
      },
      "outputs": [],
      "source": [
        "import numpy as np\n",
        "import matplotlib.pyplot as plt\n",
        "import random \n",
        "import numpy as np\n",
        "import pandas as pd\n",
        "import glob\n",
        "import os\n",
        "import sys\n",
        "import matplotlib.pyplot as plt\n",
        "from numpy.linalg import *\n",
        "np.random.seed(42)  # don't change this line\n",
        "\n",
        "import dill\n",
        "import base64"
      ]
    },
    {
      "cell_type": "code",
      "source": [
        "from google.colab import drive\n",
        "drive.mount('/content/drive')"
      ],
      "metadata": {
        "colab": {
          "base_uri": "https://localhost:8080/"
        },
        "id": "9OftovDw4I18",
        "outputId": "758a7a62-d67f-4e42-beee-25b5b14a3eab"
      },
      "execution_count": 2,
      "outputs": [
        {
          "output_type": "stream",
          "name": "stdout",
          "text": [
            "Mounted at /content/drive\n"
          ]
        }
      ]
    },
    {
      "cell_type": "code",
      "source": [],
      "metadata": {
        "id": "pFs7wSh245Ro"
      },
      "execution_count": null,
      "outputs": []
    },
    {
      "cell_type": "markdown",
      "metadata": {
        "id": "9p88IM-gi7vG"
      },
      "source": [
        "### Load raw amplitude data."
      ]
    },
    {
      "cell_type": "code",
      "execution_count": 21,
      "metadata": {
        "collapsed": true,
        "id": "sRidDXW_i7vG",
        "colab": {
          "base_uri": "https://localhost:8080/"
        },
        "outputId": "90a6682a-c322-469d-f926-49aa5352d123"
      },
      "outputs": [
        {
          "output_type": "stream",
          "name": "stdout",
          "text": [
            "10\n",
            "same\n"
          ]
        }
      ],
      "source": [
        "# Test Loading data\n",
        "local_amp_download_path = '/content/drive/MyDrive/CIS5200/Fold_Amp'\n",
        "test_fold = glob.glob(local_amp_download_path +'/*_X.npy')\n",
        "print(len(test_fold))\n",
        "x_load = np.load(test_fold[0])\n",
        "X_train = np.empty(0)\n",
        "X_train = np.append(X_train, x_load.flatten())\n",
        "X_train = X_train.reshape(x_load.shape)\n",
        "if np.array_equal(x_load, X_train, equal_nan= True):\n",
        "  print(\"same\")\n",
        "else:\n",
        "  print(\"not same\")\n",
        "# X_amp_train = np.load(\"Xtrain_amp.npy\")\n",
        "# y_amp_train = np.load(\"ytrain_amp.npy\")"
      ]
    },
    {
      "cell_type": "code",
      "source": [
        "#Load Test Data\n",
        "\n",
        "local_amp_download_path = '/content/drive/MyDrive/CIS5200/Fold_Amp'\n",
        "test_fold_X = glob.glob(local_amp_download_path +'/*_X.npy')\n",
        "print(len(test_fold_X))\n",
        "\n",
        "X_amp_train = np.empty(0)\n",
        "\n",
        "num_rows_x = 0\n",
        "num_cols_x = 44100\n",
        "for i in range(len(test_fold_X)-1):\n",
        "  x_load = np.load(test_fold_X[i])\n",
        "  X_amp_train = np.append(X_amp_train, x_load.flatten())\n",
        "  num_rows_x += x_load.shape[0]\n",
        "\n",
        "print(num_rows_x)\n",
        "X_amp_train = X_amp_train.reshape( num_rows_x, num_cols_x )\n",
        "\n",
        "test_fold_Y = glob.glob(local_amp_download_path +'/*_Y.npy')\n",
        "print(len(test_fold_Y))\n",
        "\n",
        "y_amp_train = np.empty(0)\n",
        "\n",
        "num_rows_y = 0\n",
        "for i in range(len(test_fold_Y)-1):\n",
        "  y_load = np.load(test_fold_Y[i])\n",
        "  y_amp_train = np.append(y_amp_train, y_load.flatten())\n",
        "  num_rows_y += y_load.shape[0]\n",
        "\n",
        "print(y_amp_train.shape)\n",
        "\n",
        "assert num_rows_x == num_rows_y\n",
        "# X_amp_train = np.load(\"Xtrain_amp.npy\")\n",
        "# y_amp_train = np.load(\"ytrain_amp.npy\")"
      ],
      "metadata": {
        "colab": {
          "base_uri": "https://localhost:8080/"
        },
        "id": "GPzFoPzh7pyN",
        "outputId": "34a1bbda-d174-49b2-f87b-6f1bffda38fc"
      },
      "execution_count": 42,
      "outputs": [
        {
          "output_type": "stream",
          "name": "stdout",
          "text": [
            "10\n",
            "7844\n",
            "10\n",
            "(7844,)\n"
          ]
        }
      ]
    },
    {
      "cell_type": "code",
      "execution_count": 28,
      "metadata": {
        "id": "3upz8jVgi7vH",
        "colab": {
          "base_uri": "https://localhost:8080/"
        },
        "outputId": "7f633ca3-2b0f-4698-e531-6c909983584c"
      },
      "outputs": [
        {
          "output_type": "execute_result",
          "data": {
            "text/plain": [
              "(7844, 44100)"
            ]
          },
          "metadata": {},
          "execution_count": 28
        }
      ],
      "source": [
        "X_amp_train.shape"
      ]
    },
    {
      "cell_type": "code",
      "execution_count": 45,
      "metadata": {
        "collapsed": true,
        "id": "f6v238AFi7vH",
        "colab": {
          "base_uri": "https://localhost:8080/"
        },
        "outputId": "3c5afb6e-679d-40f9-f925-1f5781e0b150"
      },
      "outputs": [
        {
          "output_type": "stream",
          "name": "stdout",
          "text": [
            "10\n",
            "10\n",
            "(888,)\n"
          ]
        }
      ],
      "source": [
        "# Load train data\n",
        "local_amp_download_path = '/content/drive/MyDrive/CIS5200/Fold_Amp'\n",
        "\n",
        "test_fold_X = glob.glob(local_amp_download_path +'/*_X.npy')\n",
        "print(len(test_fold_X))\n",
        "\n",
        "X_amp_test = np.load(test_fold_X[len(test_fold_X) - 1])\n",
        "\n",
        "test_fold_Y = glob.glob(local_amp_download_path +'/*_Y.npy')\n",
        "print(len(test_fold_Y))\n",
        "\n",
        "y_amp_test = np.load(test_fold_Y[len(test_fold_X) - 1]).flatten()\n",
        "print(y_amp_test.shape)\n",
        "\n",
        "assert X_amp_test.shape[0] == y_amp_test.shape[0]"
      ]
    },
    {
      "cell_type": "code",
      "execution_count": 33,
      "metadata": {
        "id": "AIxQfmHti7vH",
        "colab": {
          "base_uri": "https://localhost:8080/"
        },
        "outputId": "c70b0def-c849-4aed-eb95-724a2d196476"
      },
      "outputs": [
        {
          "output_type": "execute_result",
          "data": {
            "text/plain": [
              "(888, 44100)"
            ]
          },
          "metadata": {},
          "execution_count": 33
        }
      ],
      "source": [
        "X_amp_test.shape"
      ]
    },
    {
      "cell_type": "markdown",
      "metadata": {
        "id": "HTuCBb3Yi7vH"
      },
      "source": [
        "### Load Mel spectrogram data."
      ]
    },
    {
      "cell_type": "code",
      "execution_count": null,
      "metadata": {
        "collapsed": true,
        "id": "uaY5Pf69i7vI"
      },
      "outputs": [],
      "source": [
        "# Load train data\n",
        "\n",
        "X_mel_train = np.load(\"Xtrain_mel.npy\")\n",
        "y_mel_train = np.load(\"ytrain_mel.npy\")"
      ]
    },
    {
      "cell_type": "code",
      "execution_count": null,
      "metadata": {
        "id": "eLglFvvqi7vI"
      },
      "outputs": [],
      "source": [
        "X_mel_train.shape"
      ]
    },
    {
      "cell_type": "code",
      "execution_count": null,
      "metadata": {
        "id": "kBuvRv2ti7vI"
      },
      "outputs": [],
      "source": [
        "# Flatten X_mel_train's spectrogram features\n",
        "X_mel_train_flat = X_mel_train.reshape(X_mel_train.shape[0], -1)\n",
        "X_mel_train_flat.shape"
      ]
    },
    {
      "cell_type": "code",
      "execution_count": null,
      "metadata": {
        "collapsed": true,
        "id": "BkQTfBk8i7vI"
      },
      "outputs": [],
      "source": [
        "# Load test data\n",
        "\n",
        "X_mel_test = np.load(\"Xtest_mel.npy\")\n",
        "y_mel_test = np.load(\"ytest_mel.npy\")"
      ]
    },
    {
      "cell_type": "code",
      "execution_count": null,
      "metadata": {
        "id": "-078MU42i7vJ"
      },
      "outputs": [],
      "source": [
        "X_mel_test.shape"
      ]
    },
    {
      "cell_type": "markdown",
      "metadata": {
        "collapsed": true,
        "id": "uO357rmEi7vJ"
      },
      "source": [
        "### Delete an object from local memory.\n",
        "\n",
        "The \"del\" keyword in Python is used to dereference objects from local memory.  You can use it to save memory by getting rid of variables that you don't intend to use anymore.\n",
        "\n",
        "For example, to delete the variable X_mel_train:"
      ]
    },
    {
      "cell_type": "code",
      "execution_count": null,
      "metadata": {
        "collapsed": true,
        "id": "bfVgWSnCi7vJ"
      },
      "outputs": [],
      "source": [
        "del X_mel_train"
      ]
    },
    {
      "cell_type": "markdown",
      "source": [
        "# Logistic Regression"
      ],
      "metadata": {
        "id": "mPqIuN_OBc0p"
      }
    },
    {
      "cell_type": "code",
      "source": [
        "%matplotlib inline\n",
        "import numpy as np\n",
        "import matplotlib.pyplot as plt\n",
        "import random\n",
        "from sklearn.linear_model import LogisticRegression\n",
        "from sklearn import tree\n",
        "from sklearn.neighbors import KNeighborsClassifier\n",
        "from sklearn.datasets import load_digits\n",
        "import seaborn as sns"
      ],
      "metadata": {
        "id": "1jwV_x7zBq-t"
      },
      "execution_count": 34,
      "outputs": []
    },
    {
      "cell_type": "code",
      "source": [
        "# Train a Logisc Regression Classifier\n",
        "\n",
        "logistic_classifier = LogisticRegression(random_state = 0)\n",
        "\n",
        "X_amp_train_shortened = X_amp_train[:2000]\n",
        "Y_amp_train_shortened = y_amp_train[:2000]\n",
        "logistic_classifier.fit(X_amp_train_shortened, Y_amp_train_shortened)"
      ],
      "metadata": {
        "colab": {
          "base_uri": "https://localhost:8080/"
        },
        "id": "hCilSyRqBmQi",
        "outputId": "11f25388-de19-4197-d881-ccba50d8557e"
      },
      "execution_count": 47,
      "outputs": [
        {
          "output_type": "execute_result",
          "data": {
            "text/plain": [
              "LogisticRegression(random_state=0)"
            ]
          },
          "metadata": {},
          "execution_count": 47
        }
      ]
    },
    {
      "cell_type": "code",
      "source": [
        "print(logistic_classifier.score(X_amp_train_shortened, Y_amp_train_shortened))"
      ],
      "metadata": {
        "colab": {
          "base_uri": "https://localhost:8080/"
        },
        "id": "Kkuynmf0I2Op",
        "outputId": "1004553c-fbd6-45cd-cb47-5be70a5ab06c"
      },
      "execution_count": 51,
      "outputs": [
        {
          "output_type": "stream",
          "name": "stdout",
          "text": [
            "0.989\n"
          ]
        }
      ]
    },
    {
      "cell_type": "code",
      "source": [
        "X_amp_test_shortened = X_amp_test[:100]\n",
        "Y_amp_test_shortened = y_amp_test[:100]\n",
        "logistic_classifier.score(X_amp_test_shortened, Y_amp_test_shortened)"
      ],
      "metadata": {
        "colab": {
          "base_uri": "https://localhost:8080/"
        },
        "id": "zkk5UzDrIh5H",
        "outputId": "30f057a8-d332-4640-c752-de89d5ca0253"
      },
      "execution_count": 52,
      "outputs": [
        {
          "output_type": "execute_result",
          "data": {
            "text/plain": [
              "0.19"
            ]
          },
          "metadata": {},
          "execution_count": 52
        }
      ]
    }
  ],
  "metadata": {
    "kernelspec": {
      "display_name": "Python 3",
      "language": "python",
      "name": "python3"
    },
    "language_info": {
      "codemirror_mode": {
        "name": "ipython",
        "version": 3
      },
      "file_extension": ".py",
      "mimetype": "text/x-python",
      "name": "python",
      "nbconvert_exporter": "python",
      "pygments_lexer": "ipython3",
      "version": "3.6.2"
    },
    "colab": {
      "provenance": [],
      "include_colab_link": true
    }
  },
  "nbformat": 4,
  "nbformat_minor": 0
}