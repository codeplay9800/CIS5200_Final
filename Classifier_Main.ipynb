{
  "cells": [
    {
      "cell_type": "markdown",
      "metadata": {
        "id": "view-in-github",
        "colab_type": "text"
      },
      "source": [
        "<a href=\"https://colab.research.google.com/github/codeplay9800/CIS5200_Final/blob/main/Classifier_Main.ipynb\" target=\"_parent\"><img src=\"https://colab.research.google.com/assets/colab-badge.svg\" alt=\"Open In Colab\"/></a>"
      ]
    },
    {
      "cell_type": "markdown",
      "metadata": {
        "id": "2lYL3pAFi7vD"
      },
      "source": [
        "This Jupyter notebook loads the raw amplitude and Mel spectrogram data files as numpy arrays.\n",
        "\n",
        "Download the data files [here](https://console.cloud.google.com/storage/browser/cs181_practical_data).  This notebook assumes that the data files as located in the same directory."
      ]
    },
    {
      "cell_type": "code",
      "execution_count": null,
      "metadata": {
        "collapsed": true,
        "id": "48z1aQIGi7vF"
      },
      "outputs": [],
      "source": [
        "import numpy as np\n",
        "import matplotlib.pyplot as plt"
      ]
    },
    {
      "cell_type": "markdown",
      "metadata": {
        "id": "9p88IM-gi7vG"
      },
      "source": [
        "### Load raw amplitude data."
      ]
    },
    {
      "cell_type": "code",
      "execution_count": null,
      "metadata": {
        "collapsed": true,
        "id": "sRidDXW_i7vG"
      },
      "outputs": [],
      "source": [
        "# Load train data\n",
        "\n",
        "X_amp_train = np.load(\"Xtrain_amp.npy\")\n",
        "y_amp_train = np.load(\"ytrain_amp.npy\")"
      ]
    },
    {
      "cell_type": "code",
      "execution_count": null,
      "metadata": {
        "id": "3upz8jVgi7vH"
      },
      "outputs": [],
      "source": [
        "X_amp_train.shape"
      ]
    },
    {
      "cell_type": "code",
      "execution_count": null,
      "metadata": {
        "collapsed": true,
        "id": "f6v238AFi7vH"
      },
      "outputs": [],
      "source": [
        "# Load test data\n",
        "\n",
        "X_amp_test = np.load(\"Xtest_amp.npy\")\n",
        "y_amp_test = np.load(\"ytest_amp.npy\")"
      ]
    },
    {
      "cell_type": "code",
      "execution_count": null,
      "metadata": {
        "id": "AIxQfmHti7vH"
      },
      "outputs": [],
      "source": [
        "X_amp_test.shape"
      ]
    },
    {
      "cell_type": "markdown",
      "metadata": {
        "id": "HTuCBb3Yi7vH"
      },
      "source": [
        "### Load Mel spectrogram data."
      ]
    },
    {
      "cell_type": "code",
      "execution_count": null,
      "metadata": {
        "collapsed": true,
        "id": "uaY5Pf69i7vI"
      },
      "outputs": [],
      "source": [
        "# Load train data\n",
        "\n",
        "X_mel_train = np.load(\"Xtrain_mel.npy\")\n",
        "y_mel_train = np.load(\"ytrain_mel.npy\")"
      ]
    },
    {
      "cell_type": "code",
      "execution_count": null,
      "metadata": {
        "id": "eLglFvvqi7vI"
      },
      "outputs": [],
      "source": [
        "X_mel_train.shape"
      ]
    },
    {
      "cell_type": "code",
      "execution_count": null,
      "metadata": {
        "id": "kBuvRv2ti7vI"
      },
      "outputs": [],
      "source": [
        "# Flatten X_mel_train's spectrogram features\n",
        "X_mel_train_flat = X_mel_train.reshape(X_mel_train.shape[0], -1)\n",
        "X_mel_train_flat.shape"
      ]
    },
    {
      "cell_type": "code",
      "execution_count": null,
      "metadata": {
        "collapsed": true,
        "id": "BkQTfBk8i7vI"
      },
      "outputs": [],
      "source": [
        "# Load test data\n",
        "\n",
        "X_mel_test = np.load(\"Xtest_mel.npy\")\n",
        "y_mel_test = np.load(\"ytest_mel.npy\")"
      ]
    },
    {
      "cell_type": "code",
      "execution_count": null,
      "metadata": {
        "id": "-078MU42i7vJ"
      },
      "outputs": [],
      "source": [
        "X_mel_test.shape"
      ]
    },
    {
      "cell_type": "markdown",
      "metadata": {
        "collapsed": true,
        "id": "uO357rmEi7vJ"
      },
      "source": [
        "### Delete an object from local memory.\n",
        "\n",
        "The \"del\" keyword in Python is used to dereference objects from local memory.  You can use it to save memory by getting rid of variables that you don't intend to use anymore.\n",
        "\n",
        "For example, to delete the variable X_mel_train:"
      ]
    },
    {
      "cell_type": "code",
      "execution_count": null,
      "metadata": {
        "collapsed": true,
        "id": "bfVgWSnCi7vJ"
      },
      "outputs": [],
      "source": [
        "del X_mel_train"
      ]
    },
    {
      "cell_type": "code",
      "execution_count": null,
      "metadata": {
        "collapsed": true,
        "id": "-sqO_f7-i7vJ"
      },
      "outputs": [],
      "source": []
    }
  ],
  "metadata": {
    "kernelspec": {
      "display_name": "Python 3",
      "language": "python",
      "name": "python3"
    },
    "language_info": {
      "codemirror_mode": {
        "name": "ipython",
        "version": 3
      },
      "file_extension": ".py",
      "mimetype": "text/x-python",
      "name": "python",
      "nbconvert_exporter": "python",
      "pygments_lexer": "ipython3",
      "version": "3.6.2"
    },
    "colab": {
      "provenance": [],
      "include_colab_link": true
    }
  },
  "nbformat": 4,
  "nbformat_minor": 0
}