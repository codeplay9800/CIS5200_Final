{
  "cells": [
    {
      "cell_type": "markdown",
      "metadata": {
        "id": "view-in-github",
        "colab_type": "text"
      },
      "source": [
        "<a href=\"https://colab.research.google.com/github/codeplay9800/CIS5200_Final/blob/main/generate_spectrograms.ipynb\" target=\"_parent\"><img src=\"https://colab.research.google.com/assets/colab-badge.svg\" alt=\"Open In Colab\"/></a>"
      ]
    },
    {
      "cell_type": "code",
      "execution_count": 1,
      "metadata": {
        "collapsed": true,
        "id": "pboAENJJjClD"
      },
      "outputs": [],
      "source": [
        "import numpy as np\n",
        "import librosa"
      ],
      "id": "pboAENJJjClD"
    },
    {
      "cell_type": "code",
      "execution_count": null,
      "metadata": {
        "collapsed": true,
        "id": "jlLFYyPYjClF"
      },
      "outputs": [],
      "source": [
        "def make_spec(amp_i):\n",
        "    mel_i = librosa.feature.melspectrogram(y=amp_i, sr=22050)\n",
        "    assert mel_i.shape == (128,87)\n",
        "    mel_i = mel_i.reshape(1,mel_i.shape[0],mel_i.shape[1])\n",
        "    return mel_i\n",
        "\n",
        "def amps_to_specs(fold='train'):\n",
        "    amps = np.load('X{}_amp.npy'.format(fold))\n",
        "    ys = np.load('y{}_amp.npy'.format(fold))\n",
        "    mels = [make_spec(amp) for amp in amps]\n",
        "    del amps # save memory\n",
        "    mels = np.concatenate(mels,axis=0)\n",
        "    np.save('X{}_mel.npy'.format(fold),mels)\n",
        "    np.save('y{}_mel.npy'.format(fold),ys)\n",
        "    del mels # save memory"
      ],
      "id": "jlLFYyPYjClF"
    },
    {
      "cell_type": "code",
      "source": [
        "from google.colab import drive\n",
        "drive.mount('/content/drive')"
      ],
      "metadata": {
        "id": "x_2OUJjrwJo1"
      },
      "id": "x_2OUJjrwJo1",
      "execution_count": null,
      "outputs": []
    },
    {
      "cell_type": "code",
      "execution_count": null,
      "metadata": {
        "id": "c3naXPZ_jClG"
      },
      "outputs": [],
      "source": [
        "amps_to_specs('train')\n",
        "amps_to_specs('test')"
      ],
      "id": "c3naXPZ_jClG"
    },
    {
      "cell_type": "code",
      "execution_count": null,
      "metadata": {
        "collapsed": true,
        "id": "1eNhBuwWjClG"
      },
      "outputs": [],
      "source": [],
      "id": "1eNhBuwWjClG"
    }
  ],
  "metadata": {
    "kernelspec": {
      "display_name": "Python 3",
      "language": "python",
      "name": "python3"
    },
    "language_info": {
      "codemirror_mode": {
        "name": "ipython",
        "version": 3
      },
      "file_extension": ".py",
      "mimetype": "text/x-python",
      "name": "python",
      "nbconvert_exporter": "python",
      "pygments_lexer": "ipython3",
      "version": "3.6.2"
    },
    "colab": {
      "provenance": [],
      "include_colab_link": true
    }
  },
  "nbformat": 4,
  "nbformat_minor": 5
}