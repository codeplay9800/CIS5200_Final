{
  "nbformat": 4,
  "nbformat_minor": 0,
  "metadata": {
    "colab": {
      "provenance": [],
      "include_colab_link": true
    },
    "kernelspec": {
      "name": "python3",
      "display_name": "Python 3"
    },
    "language_info": {
      "name": "python"
    }
  },
  "cells": [
    {
      "cell_type": "markdown",
      "metadata": {
        "id": "view-in-github",
        "colab_type": "text"
      },
      "source": [
        "<a href=\"https://colab.research.google.com/github/codeplay9800/CIS5200_Final/blob/main/cs181_practical_student_code.ipynb\" target=\"_parent\"><img src=\"https://colab.research.google.com/assets/colab-badge.svg\" alt=\"Open In Colab\"/></a>"
      ]
    },
    {
      "cell_type": "markdown",
      "metadata": {
        "id": "vZzMPfh8HhFX"
      },
      "source": [
        "# Student Starter Code\n",
        "### CS 181 Practical, Spring 2021\n",
        "author: njohnson\n",
        "\n",
        "**Please copy this notebook by clicking \"File\" -> \"Save a Copy in Drive\".**"
      ]
    },
    {
      "cell_type": "markdown",
      "metadata": {
        "id": "E2_H7IBvHuZI"
      },
      "source": [
        "This notebook contains starter code to:\n",
        "\n",
        "\n",
        "*   **Load all of the data files** directly into your Colab runtime from the GCP bucket (so you don't need to download them to your computer!)\n",
        "*   **Install libraries** inline, so you don't need to install them to your computer!\n",
        "\n",
        "\n"
      ]
    },
    {
      "cell_type": "markdown",
      "metadata": {
        "id": "0DKObq2EMWGM"
      },
      "source": [
        "# Before you run this code:\n",
        "\n",
        "1.   **Change your Runtime to use a GPU**: Click \"Runtime\" -> \"Change Runtime Type\", and select \"GPU\".\n",
        "2.   **Stop Colab from disconnecting**:  To prevent Google Colab from disconnecting while you're away,  you can add an auto-click function using the Chrome console Just \"Inspect\", navigate to the \"Console\" and paste in this function:\n",
        "\n",
        "```\n",
        "function ClickConnect(){\n",
        "    console.log(\"Clicked on connect button\"); \n",
        "    document.querySelector(\"#ok\").click()\n",
        "}\n",
        "setInterval(ClickConnect,60000)\n",
        "```\n",
        "\n",
        "\n",
        "\n",
        "\n",
        "\n"
      ]
    },
    {
      "cell_type": "code",
      "metadata": {
        "id": "rnkY_dv_QYz8"
      },
      "source": [
        "import numpy as np\n",
        "import matplotlib.pyplot as plt"
      ],
      "execution_count": null,
      "outputs": []
    },
    {
      "cell_type": "markdown",
      "metadata": {
        "id": "PVU_lGLoPwIC"
      },
      "source": [
        "## Load the data files into local memory from the GCP bucket."
      ]
    },
    {
      "cell_type": "code",
      "metadata": {
        "colab": {
          "base_uri": "https://localhost:8080/"
        },
        "id": "-yA1eCGyMVes",
        "outputId": "c1103611-ed82-406a-d3f4-899a2203254b"
      },
      "source": [
        "!gsutil cp gs://cs181_practical_data/Xtrain_amp.npy ./\n",
        "!gsutil cp gs://cs181_practical_data/ytrain_amp.npy ./\n",
        "\n",
        "!gsutil cp gs://cs181_practical_data/Xtest_amp.npy ./\n",
        "!gsutil cp gs://cs181_practical_data/ytest_amp.npy ./\n",
        "\n",
        "!gsutil cp gs://cs181_practical_data/Xtrain_mel.npy ./\n",
        "!gsutil cp gs://cs181_practical_data/ytrain_mel.npy ./\n",
        "\n",
        "!gsutil cp gs://cs181_practical_data/Xtest_mel.npy ./\n",
        "!gsutil cp gs://cs181_practical_data/ytest_mel.npy ./"
      ],
      "execution_count": null,
      "outputs": [
        {
          "output_type": "stream",
          "text": [
            "Copying gs://cs181_practical_data/Xtrain_amp.npy...\n",
            "- [1 files][934.2 MiB/934.2 MiB]   52.2 MiB/s                                   \n",
            "Operation completed over 1 objects/934.2 MiB.                                    \n",
            "Copying gs://cs181_practical_data/ytrain_amp.npy...\n",
            "/ [1 files][ 43.5 KiB/ 43.5 KiB]                                                \n",
            "Operation completed over 1 objects/43.5 KiB.                                     \n",
            "Copying gs://cs181_practical_data/Xtest_amp.npy...\n",
            "- [1 files][369.6 MiB/369.6 MiB]                                                \n",
            "Operation completed over 1 objects/369.6 MiB.                                    \n",
            "Copying gs://cs181_practical_data/ytest_amp.npy...\n",
            "/ [1 files][ 17.3 KiB/ 17.3 KiB]                                                \n",
            "Operation completed over 1 objects/17.3 KiB.                                     \n",
            "Copying gs://cs181_practical_data/Xtrain_mel.npy...\n",
            "\\ [1 files][235.9 MiB/235.9 MiB]                                                \n",
            "Operation completed over 1 objects/235.9 MiB.                                    \n",
            "Copying gs://cs181_practical_data/ytrain_mel.npy...\n",
            "/ [1 files][ 43.5 KiB/ 43.5 KiB]                                                \n",
            "Operation completed over 1 objects/43.5 KiB.                                     \n",
            "Copying gs://cs181_practical_data/Xtest_mel.npy...\n",
            "- [1 files][ 93.3 MiB/ 93.3 MiB]                                                \n",
            "Operation completed over 1 objects/93.3 MiB.                                     \n",
            "Copying gs://cs181_practical_data/ytest_mel.npy...\n",
            "/ [1 files][ 17.3 KiB/ 17.3 KiB]                                                \n",
            "Operation completed over 1 objects/17.3 KiB.                                     \n"
          ],
          "name": "stdout"
        }
      ]
    },
    {
      "cell_type": "markdown",
      "metadata": {
        "id": "4vQKC6VJP6Vq"
      },
      "source": [
        "### Load raw amplitude data as a numpy object."
      ]
    },
    {
      "cell_type": "code",
      "metadata": {
        "id": "EsrrnkJNMUIG"
      },
      "source": [
        "# Load train data\n",
        "\n",
        "X_amp_train = np.load(\"Xtrain_amp.npy\")\n",
        "y_amp_train = np.load(\"ytrain_amp.npy\")"
      ],
      "execution_count": null,
      "outputs": []
    },
    {
      "cell_type": "code",
      "metadata": {
        "colab": {
          "base_uri": "https://localhost:8080/"
        },
        "id": "AnugjNjwHdsA",
        "outputId": "d57162bb-6822-442d-9aee-ec0f0e9f1760"
      },
      "source": [
        "X_amp_train.shape"
      ],
      "execution_count": null,
      "outputs": [
        {
          "output_type": "execute_result",
          "data": {
            "text/plain": [
              "(5553, 44100)"
            ]
          },
          "metadata": {
            "tags": []
          },
          "execution_count": 11
        }
      ]
    },
    {
      "cell_type": "code",
      "metadata": {
        "id": "zwbCZz3uQEdB"
      },
      "source": [
        "# Load test data\n",
        "\n",
        "X_amp_test = np.load(\"Xtest_amp.npy\")\n",
        "y_amp_test = np.load(\"ytest_amp.npy\")"
      ],
      "execution_count": null,
      "outputs": []
    },
    {
      "cell_type": "code",
      "metadata": {
        "colab": {
          "base_uri": "https://localhost:8080/"
        },
        "id": "0vYPQbnbQGv9",
        "outputId": "7ea251ca-f3da-4b5c-a1c0-e4346c4d9dd4"
      },
      "source": [
        "X_amp_test.shape"
      ],
      "execution_count": null,
      "outputs": [
        {
          "output_type": "execute_result",
          "data": {
            "text/plain": [
              "(2197, 44100)"
            ]
          },
          "metadata": {
            "tags": []
          },
          "execution_count": 13
        }
      ]
    },
    {
      "cell_type": "markdown",
      "metadata": {
        "id": "bOdhs7mQQHcd"
      },
      "source": [
        "### Load Mel spectrogram data as a numpy object."
      ]
    },
    {
      "cell_type": "code",
      "metadata": {
        "id": "O3DYzdbAQKXq"
      },
      "source": [
        "# Load train data\n",
        "\n",
        "X_mel_train = np.load(\"Xtrain_mel.npy\")\n",
        "y_mel_train = np.load(\"ytrain_mel.npy\")"
      ],
      "execution_count": null,
      "outputs": []
    },
    {
      "cell_type": "code",
      "metadata": {
        "colab": {
          "base_uri": "https://localhost:8080/"
        },
        "id": "IKFnWtKeQOfs",
        "outputId": "1ae734cc-5155-47f4-a6a7-60a6c7c26851"
      },
      "source": [
        "X_mel_train.shape"
      ],
      "execution_count": null,
      "outputs": [
        {
          "output_type": "execute_result",
          "data": {
            "text/plain": [
              "(5553, 128, 87)"
            ]
          },
          "metadata": {
            "tags": []
          },
          "execution_count": 15
        }
      ]
    },
    {
      "cell_type": "code",
      "metadata": {
        "colab": {
          "base_uri": "https://localhost:8080/"
        },
        "id": "Bztvdo-hQOyH",
        "outputId": "1f660f0e-e07d-4b39-f789-92c05bcfdab9"
      },
      "source": [
        "# Flatten X_mel_train's spectrogram features\n",
        "X_mel_train_flat = X_mel_train.reshape(X_mel_train.shape[0], -1)\n",
        "X_mel_train_flat.shape"
      ],
      "execution_count": null,
      "outputs": [
        {
          "output_type": "execute_result",
          "data": {
            "text/plain": [
              "(5553, 11136)"
            ]
          },
          "metadata": {
            "tags": []
          },
          "execution_count": 16
        }
      ]
    },
    {
      "cell_type": "code",
      "metadata": {
        "id": "9-bNNjLVQQPf"
      },
      "source": [
        "# Load test data\n",
        "\n",
        "X_mel_test = np.load(\"Xtest_mel.npy\")\n",
        "y_mel_test = np.load(\"ytest_mel.npy\")"
      ],
      "execution_count": null,
      "outputs": []
    },
    {
      "cell_type": "code",
      "metadata": {
        "colab": {
          "base_uri": "https://localhost:8080/"
        },
        "id": "7njgVmbhQSjW",
        "outputId": "0c825088-f7bd-4768-ba54-b9ec21f0a7f7"
      },
      "source": [
        "X_mel_test.shape"
      ],
      "execution_count": null,
      "outputs": [
        {
          "output_type": "execute_result",
          "data": {
            "text/plain": [
              "(2197, 128, 87)"
            ]
          },
          "metadata": {
            "tags": []
          },
          "execution_count": 18
        }
      ]
    },
    {
      "cell_type": "markdown",
      "metadata": {
        "id": "xs7vdtploDz0"
      },
      "source": [
        "### Delete an object from local memory.\n",
        "\n",
        "The \"del\" keyword in Python is used to dereference objects from local memory.  You can use it to save memory by getting rid of variables that you don't intend to use anymore.\n",
        "\n",
        "For example, to delete the variable X_mel_train:"
      ]
    },
    {
      "cell_type": "code",
      "metadata": {
        "id": "IvL9Wt9KoEdC"
      },
      "source": [
        "del X_mel_train"
      ],
      "execution_count": null,
      "outputs": []
    },
    {
      "cell_type": "markdown",
      "metadata": {
        "id": "a_gzzQ9RQlkK"
      },
      "source": [
        "### Example package installation\n",
        "\n",
        "You can install packages using pip by running lines of code preceded by \"!\".  For example, the below line of code installs the librosa package:"
      ]
    },
    {
      "cell_type": "code",
      "metadata": {
        "colab": {
          "base_uri": "https://localhost:8080/"
        },
        "id": "kqw1NYi-Qkea",
        "outputId": "6472de57-6b03-4a24-a8f0-ad5cf229f174"
      },
      "source": [
        "! pip install librosa"
      ],
      "execution_count": null,
      "outputs": [
        {
          "output_type": "stream",
          "text": [
            "Requirement already satisfied: librosa in /usr/local/lib/python3.7/dist-packages (0.8.0)\n",
            "Requirement already satisfied: joblib>=0.14 in /usr/local/lib/python3.7/dist-packages (from librosa) (1.0.1)\n",
            "Requirement already satisfied: numba>=0.43.0 in /usr/local/lib/python3.7/dist-packages (from librosa) (0.51.2)\n",
            "Requirement already satisfied: soundfile>=0.9.0 in /usr/local/lib/python3.7/dist-packages (from librosa) (0.10.3.post1)\n",
            "Requirement already satisfied: resampy>=0.2.2 in /usr/local/lib/python3.7/dist-packages (from librosa) (0.2.2)\n",
            "Requirement already satisfied: scikit-learn!=0.19.0,>=0.14.0 in /usr/local/lib/python3.7/dist-packages (from librosa) (0.22.2.post1)\n",
            "Requirement already satisfied: numpy>=1.15.0 in /usr/local/lib/python3.7/dist-packages (from librosa) (1.19.5)\n",
            "Requirement already satisfied: scipy>=1.0.0 in /usr/local/lib/python3.7/dist-packages (from librosa) (1.4.1)\n",
            "Requirement already satisfied: pooch>=1.0 in /usr/local/lib/python3.7/dist-packages (from librosa) (1.3.0)\n",
            "Requirement already satisfied: audioread>=2.0.0 in /usr/local/lib/python3.7/dist-packages (from librosa) (2.1.9)\n",
            "Requirement already satisfied: decorator>=3.0.0 in /usr/local/lib/python3.7/dist-packages (from librosa) (4.4.2)\n",
            "Requirement already satisfied: llvmlite<0.35,>=0.34.0.dev0 in /usr/local/lib/python3.7/dist-packages (from numba>=0.43.0->librosa) (0.34.0)\n",
            "Requirement already satisfied: setuptools in /usr/local/lib/python3.7/dist-packages (from numba>=0.43.0->librosa) (54.1.2)\n",
            "Requirement already satisfied: cffi>=1.0 in /usr/local/lib/python3.7/dist-packages (from soundfile>=0.9.0->librosa) (1.14.5)\n",
            "Requirement already satisfied: six>=1.3 in /usr/local/lib/python3.7/dist-packages (from resampy>=0.2.2->librosa) (1.15.0)\n",
            "Requirement already satisfied: appdirs in /usr/local/lib/python3.7/dist-packages (from pooch>=1.0->librosa) (1.4.4)\n",
            "Requirement already satisfied: requests in /usr/local/lib/python3.7/dist-packages (from pooch>=1.0->librosa) (2.23.0)\n",
            "Requirement already satisfied: packaging in /usr/local/lib/python3.7/dist-packages (from pooch>=1.0->librosa) (20.9)\n",
            "Requirement already satisfied: pycparser in /usr/local/lib/python3.7/dist-packages (from cffi>=1.0->soundfile>=0.9.0->librosa) (2.20)\n",
            "Requirement already satisfied: certifi>=2017.4.17 in /usr/local/lib/python3.7/dist-packages (from requests->pooch>=1.0->librosa) (2020.12.5)\n",
            "Requirement already satisfied: chardet<4,>=3.0.2 in /usr/local/lib/python3.7/dist-packages (from requests->pooch>=1.0->librosa) (3.0.4)\n",
            "Requirement already satisfied: urllib3!=1.25.0,!=1.25.1,<1.26,>=1.21.1 in /usr/local/lib/python3.7/dist-packages (from requests->pooch>=1.0->librosa) (1.24.3)\n",
            "Requirement already satisfied: idna<3,>=2.5 in /usr/local/lib/python3.7/dist-packages (from requests->pooch>=1.0->librosa) (2.10)\n",
            "Requirement already satisfied: pyparsing>=2.0.2 in /usr/local/lib/python3.7/dist-packages (from packaging->pooch>=1.0->librosa) (2.4.7)\n"
          ],
          "name": "stdout"
        }
      ]
    },
    {
      "cell_type": "code",
      "metadata": {
        "id": "APTaS9L1QvAy"
      },
      "source": [
        "# After you've installed a package, you can import it\n",
        "import librosa"
      ],
      "execution_count": null,
      "outputs": []
    },
    {
      "cell_type": "code",
      "metadata": {
        "id": "7Nob3i4RQxpl"
      },
      "source": [],
      "execution_count": null,
      "outputs": []
    }
  ]
}